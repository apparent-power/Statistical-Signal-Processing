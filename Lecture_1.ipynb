{
 "cells": [
  {
   "cell_type": "markdown",
   "metadata": {},
   "source": []
  },
  {
   "cell_type": "markdown",
   "metadata": {},
   "source": [
    "# Lecture 1"
   ]
  },
  {
   "cell_type": "markdown",
   "metadata": {},
   "source": [
    "![Definition of a Vector](https://github.com/apparent-power/Statistical-Signal-Processing/blob/68a5d6220b630fe19037d1ead316137aea24a621/definitionOfVector.png)"
   ]
  },
  {
   "cell_type": "code",
   "execution_count": 1,
   "metadata": {},
   "outputs": [
    {
     "data": {
      "text/html": [
       "<img src=\"https://raw.githubusercontent.com/apparent-power/Statistical-Signal-Processing/68a5d6220b630fe19037d1ead316137aea24a621/definitionOfVector.png\"/>"
      ],
      "text/plain": [
       "<IPython.core.display.Image object>"
      ]
     },
     "execution_count": 1,
     "metadata": {},
     "output_type": "execute_result"
    }
   ],
   "source": [
    "from IPython.display import Image\n",
    "\n",
    "# Use the raw image URL\n",
    "image_url = \"https://raw.githubusercontent.com/apparent-power/Statistical-Signal-Processing/68a5d6220b630fe19037d1ead316137aea24a621/definitionOfVector.png\"\n",
    "Image(url=image_url)\n"
   ]
  },
  {
   "cell_type": "markdown",
   "metadata": {},
   "source": [
    "![Definition of Vector](https://raw.githubusercontent.com/apparent-power/Statistical-Signal-Processing/68a5d6220b630fe19037d1ead316137aea24a621/definitionOfVector.png)\n"
   ]
  },
  {
   "cell_type": "code",
   "execution_count": 2,
   "metadata": {},
   "outputs": [
    {
     "name": "stdout",
     "output_type": "stream",
     "text": [
      "[[1]\n",
      " [2]\n",
      " [3]\n",
      " [4]]\n"
     ]
    }
   ],
   "source": [
    "import numpy as np\n",
    "\n",
    "# Define your variables\n",
    "v1 = 1\n",
    "v2 = 2\n",
    "v3 = 3\n",
    "vn = 4  # Replace these values with your actual values\n",
    "\n",
    "# Creating a column vector using the defined variables\n",
    "column_vector = np.array([[v1], [v2], [v3], [vn]])\n",
    "\n",
    "# Display the column vector\n",
    "print(column_vector)"
   ]
  },
  {
   "cell_type": "code",
   "execution_count": 3,
   "metadata": {},
   "outputs": [
    {
     "name": "stdout",
     "output_type": "stream",
     "text": [
      "[[1]\n",
      " [2]\n",
      " [3]\n",
      " [4]]\n"
     ]
    }
   ],
   "source": [
    "# Demonstrates converting a row vector into a column vector (performing a transpose) in python:\n",
    "# Create a row vector (1D array)\n",
    "row_vector = np.array([1, 2, 3, 4])  # Example values\n",
    "\n",
    "# Convert it into a column vector (2D array)\n",
    "column_vector = row_vector.reshape(-1, 1)\n",
    "\n",
    "# Display the column vector\n",
    "print(column_vector)\n",
    "\n",
    "#In this example:\n",
    "\n",
    "#      row_vector is your original one-dimensional array.\n",
    "#      reshape(-1, 1) converts it into a two-dimensional array with one column. The -1 tells NumPy to automatically calculate the number of rows based on the length of the array."
   ]
  },
  {
   "cell_type": "markdown",
   "metadata": {},
   "source": [
    "![Vector Addition](https://github.com/apparent-power/Statistical-Signal-Processing/blob/621f2bd931d2c1f52ca0ee5e7497fc6011f2aed2/DefinitionOfVectorAddition.png)"
   ]
  },
  {
   "cell_type": "markdown",
   "metadata": {},
   "source": []
  },
  {
   "cell_type": "code",
   "execution_count": 5,
   "metadata": {},
   "outputs": [
    {
     "data": {
      "text/latex": [
       "\\[\n",
       "\\begin{align*}\n",
       "\\mathbf{a} &= \\begin{bmatrix}1 \\\\ 2 \\\\ 3\\end{bmatrix} \\\\\n",
       "\\mathbf{b} &= \\begin{bmatrix}4 \\\\ 5 \\\\ 6\\end{bmatrix} \\\\\n",
       "\\mathbf{a} + \\mathbf{b} &= \\begin{bmatrix}5 \\\\ 7 \\\\ 9\\end{bmatrix}\n",
       "\\end{align*}\n",
       "\\]"
      ],
      "text/plain": [
       "<IPython.core.display.Latex object>"
      ]
     },
     "metadata": {},
     "output_type": "display_data"
    }
   ],
   "source": [
    "from IPython.display import Latex\n",
    "\n",
    "# Define your vectors a and b\n",
    "a = [1, 2, 3]  # Replace with your actual values for a\n",
    "b = [4, 5, 6]  # Replace with your actual values for b\n",
    "\n",
    "# Create a LaTeX representation of the vectors\n",
    "latex_str = r'''\\[\n",
    "\\begin{align*}\n",
    "\\mathbf{a} &= \\begin{bmatrix}'''\n",
    "latex_str += r' \\\\ '.join([str(ai) for ai in a]) + r'''\\end{bmatrix} \\\\\n",
    "\\mathbf{b} &= \\begin{bmatrix}'''\n",
    "latex_str += r' \\\\ '.join([str(bi) for bi in b]) + r'''\\end{bmatrix} \\\\\n",
    "\\mathbf{a} + \\mathbf{b} &= \\begin{bmatrix}'''\n",
    "latex_str += r' \\\\ '.join([str(ai + bi) for ai, bi in zip(a, b)]) + r'''\\end{bmatrix}\n",
    "\\end{align*}\n",
    "\\]'''\n",
    "\n",
    "# Display the vectors\n",
    "display(Latex(latex_str))\n"
   ]
  }
 ],
 "metadata": {
  "kernelspec": {
   "display_name": "Python 3",
   "language": "python",
   "name": "python3"
  },
  "language_info": {
   "codemirror_mode": {
    "name": "ipython",
    "version": 3
   },
   "file_extension": ".py",
   "mimetype": "text/x-python",
   "name": "python",
   "nbconvert_exporter": "python",
   "pygments_lexer": "ipython3",
   "version": "3.12.0"
  }
 },
 "nbformat": 4,
 "nbformat_minor": 2
}
