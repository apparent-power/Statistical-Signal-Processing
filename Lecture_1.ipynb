{
 "cells": [
  {
   "cell_type": "markdown",
   "metadata": {},
   "source": []
  },
  {
   "cell_type": "markdown",
   "metadata": {},
   "source": [
    "# Lecture 1"
   ]
  },
  {
   "cell_type": "markdown",
   "metadata": {},
   "source": [
    "![Definition of a Vector](https://github.com/apparent-power/Statistical-Signal-Processing/blob/68a5d6220b630fe19037d1ead316137aea24a621/definitionOfVector.png)"
   ]
  },
  {
   "cell_type": "code",
   "execution_count": 5,
   "metadata": {},
   "outputs": [
    {
     "data": {
      "text/html": [
       "<img src=\"https://raw.githubusercontent.com/apparent-power/Statistical-Signal-Processing/68a5d6220b630fe19037d1ead316137aea24a621/definitionOfVector.png\"/>"
      ],
      "text/plain": [
       "<IPython.core.display.Image object>"
      ]
     },
     "execution_count": 5,
     "metadata": {},
     "output_type": "execute_result"
    }
   ],
   "source": [
    "from IPython.display import Image\n",
    "\n",
    "# Use the raw image URL\n",
    "image_url = \"https://raw.githubusercontent.com/apparent-power/Statistical-Signal-Processing/68a5d6220b630fe19037d1ead316137aea24a621/definitionOfVector.png\"\n",
    "Image(url=image_url)\n"
   ]
  },
  {
   "cell_type": "markdown",
   "metadata": {},
   "source": [
    "![Description of Image](https://raw.githubusercontent.com/apparent-power/Statistical-Signal-Processing/68a5d6220b630fe19037d1ead316137aea24a621/definitionOfVector.png)\n"
   ]
  },
  {
   "cell_type": "code",
   "execution_count": 6,
   "metadata": {},
   "outputs": [
    {
     "ename": "NameError",
     "evalue": "name 'v1' is not defined",
     "output_type": "error",
     "traceback": [
      "\u001b[1;31m---------------------------------------------------------------------------\u001b[0m",
      "\u001b[1;31mNameError\u001b[0m                                 Traceback (most recent call last)",
      "Cell \u001b[1;32mIn[6], line 4\u001b[0m\n\u001b[0;32m      1\u001b[0m \u001b[38;5;28;01mimport\u001b[39;00m \u001b[38;5;21;01mnumpy\u001b[39;00m \u001b[38;5;28;01mas\u001b[39;00m \u001b[38;5;21;01mnp\u001b[39;00m\n\u001b[0;32m      3\u001b[0m \u001b[38;5;66;03m# Creating a column vector\u001b[39;00m\n\u001b[1;32m----> 4\u001b[0m v \u001b[38;5;241m=\u001b[39m np\u001b[38;5;241m.\u001b[39marray([[\u001b[43mv1\u001b[49m], [v2], [v3],[vn]])\n\u001b[0;32m      6\u001b[0m \u001b[38;5;66;03m# Display the column vector\u001b[39;00m\n\u001b[0;32m      7\u001b[0m \u001b[38;5;28mprint\u001b[39m(column_vector)\n",
      "\u001b[1;31mNameError\u001b[0m: name 'v1' is not defined"
     ]
    }
   ],
   "source": [
    "import numpy as np\n",
    "\n",
    "# Define your variables\n",
    "v1 = 1\n",
    "v2 = 2\n",
    "v3 = 3\n",
    "vn = 4  # Replace these values with your actual values\n",
    "\n",
    "# Creating a column vector using the defined variables\n",
    "column_vector = np.array([[v1], [v2], [v3], [vn]])\n",
    "\n",
    "# Display the column vector\n",
    "print(column_vector)"
   ]
  }
 ],
 "metadata": {
  "kernelspec": {
   "display_name": "Python 3",
   "language": "python",
   "name": "python3"
  },
  "language_info": {
   "codemirror_mode": {
    "name": "ipython",
    "version": 3
   },
   "file_extension": ".py",
   "mimetype": "text/x-python",
   "name": "python",
   "nbconvert_exporter": "python",
   "pygments_lexer": "ipython3",
   "version": "3.12.0"
  }
 },
 "nbformat": 4,
 "nbformat_minor": 2
}
